{
 "cells": [
  {
   "cell_type": "code",
   "execution_count": 28,
   "id": "c6c2e114",
   "metadata": {},
   "outputs": [
    {
     "name": "stdout",
     "output_type": "stream",
     "text": [
      "vocab_size: 63\n"
     ]
    }
   ],
   "source": [
    "import torch\n",
    "import matplotlib.pyplot as plt\n",
    "import torch.nn as nn\n",
    "import torch.optim as optim\n",
    "import torch.nn.functional as F\n",
    "from IPython.display import clear_output\n",
    "\n",
    "words = open('the-verdict.txt').read()\n",
    "\n",
    "vocab = ['.'] + sorted(set(''.join(words)))  # sorted unique chars\n",
    "vocab_size = len(vocab)\n",
    "\n",
    "itos = {i:s for i,s in enumerate(vocab)}  # index to string\n",
    "stoi = {s:i for i,s in enumerate(vocab)}  # string to index\n",
    "\n",
    "print('vocab_size:', vocab_size)\n",
    "\n",
    "# list of tokens\n",
    "def encode(text):\n",
    "    return [stoi[s] for s in text]\n",
    "\n",
    "# for each token put letter and join with empty string\n",
    "def decode(ids):\n",
    "    return ''.join(itos[i] for i in ids)"
   ]
  },
  {
   "cell_type": "code",
   "execution_count": 2,
   "id": "ce90bb09",
   "metadata": {},
   "outputs": [],
   "source": [
    "encoded = encode(words)"
   ]
  },
  {
   "cell_type": "code",
   "execution_count": 3,
   "id": "1016610d",
   "metadata": {},
   "outputs": [
    {
     "data": {
      "text/plain": [
       "[22, 2, 21, 14, 17, 2, 37, 48, 59, 37]"
      ]
     },
     "execution_count": 3,
     "metadata": {},
     "output_type": "execute_result"
    }
   ],
   "source": [
    "encoded[:10]"
   ]
  },
  {
   "cell_type": "code",
   "execution_count": 4,
   "id": "17154870",
   "metadata": {},
   "outputs": [],
   "source": [
    "#hyperparameter\n",
    "block_size = 3\n",
    "n_embd = 2"
   ]
  },
  {
   "cell_type": "code",
   "execution_count": 5,
   "id": "b753ba3c",
   "metadata": {},
   "outputs": [
    {
     "data": {
      "text/plain": [
       "20476"
      ]
     },
     "execution_count": 5,
     "metadata": {},
     "output_type": "execute_result"
    }
   ],
   "source": [
    "len(encoded)-block_size"
   ]
  },
  {
   "cell_type": "code",
   "execution_count": 6,
   "id": "ca45d318",
   "metadata": {},
   "outputs": [],
   "source": [
    "# Goal: train model to predict next character based on sequence of previous characters (N)  \n",
    "# Dataset: list of triples (input, output), supervised learning\n",
    "X = []\n",
    "y = []\n",
    "for i in range(len(encoded)-block_size):\n",
    "    X.append(encoded[i:i+block_size])  # 3 chars\n",
    "    y.append(encoded[i+block_size])  # next char\n",
    "\n",
    "# list to tensor (to train model)\n",
    "X = torch.tensor(X)\n",
    "y = torch.tensor(y)"
   ]
  },
  {
   "cell_type": "code",
   "execution_count": 7,
   "id": "300e7890",
   "metadata": {},
   "outputs": [
    {
     "data": {
      "text/plain": [
       "tensor([[22,  2, 21],\n",
       "        [ 2, 21, 14],\n",
       "        [21, 14, 17],\n",
       "        ...,\n",
       "        [ 2, 37, 54],\n",
       "        [37, 54, 56],\n",
       "        [54, 56, 10]])"
      ]
     },
     "execution_count": 7,
     "metadata": {},
     "output_type": "execute_result"
    }
   ],
   "source": [
    "X"
   ]
  },
  {
   "cell_type": "code",
   "execution_count": 8,
   "id": "406fad38",
   "metadata": {},
   "outputs": [
    {
     "data": {
      "text/plain": [
       "tensor([14, 17,  2,  ..., 56, 10,  4])"
      ]
     },
     "execution_count": 8,
     "metadata": {},
     "output_type": "execute_result"
    }
   ],
   "source": [
    "y"
   ]
  },
  {
   "cell_type": "code",
   "execution_count": 9,
   "id": "512bb67a",
   "metadata": {},
   "outputs": [
    {
     "name": "stdout",
     "output_type": "stream",
     "text": [
      "When input is 'I H', output is 'A'\n",
      "When input is ' HA', output is 'D'\n",
      "When input is 'HAD', output is ' '\n",
      "When input is 'AD ', output is 'a'\n",
      "When input is 'D a', output is 'l'\n"
     ]
    }
   ],
   "source": [
    "j = 0\n",
    "for input_, output in zip(X, y):\n",
    "    print(f\"When input is {decode(input_.tolist())!r}, output is {decode([output.item()])!r}\")\n",
    "    j += 1\n",
    "    if j == 5:\n",
    "        break"
   ]
  },
  {
   "cell_type": "code",
   "execution_count": 56,
   "id": "fc3c8d21",
   "metadata": {},
   "outputs": [],
   "source": [
    "# Pythorch NN model class\n",
    "class NGram(nn.Module):\n",
    "    def __init__(self, vocab_size, block_size, n_embd):\n",
    "        super().__init__()\n",
    "        self.vocab_size = vocab_size\n",
    "        self.block_size = block_size\n",
    "        self.n_embd = n_embd\n",
    "\n",
    "        self.emb = nn.Embedding(vocab_size, n_embd)  # lookup table of shape [vocab_size x n_embd]\n",
    "        self.fc = nn.Linear(block_size*n_embd, vocab_size)  # block_size*n_embd is flattened vector, vocab_size is output\n",
    "\n",
    "        # output logits=input vector×W^⊤+b\n",
    "        # Given these (block_size*n_embd) inputs, how confident am I that the next character is A, B, ..., Z\n",
    "            \n",
    "    def forward(self, x):\n",
    "        \"\"\"Goal: take a batch input sequence and output a prediction (logits)\"\"\"\n",
    "        # shape of x: B, T\n",
    "        # print(\"1.\", x.shape)\n",
    "        x = self.emb(x)\n",
    "        # print(\"2.\", x.shape)\n",
    "        # shape of x: B, T, C\n",
    "        B, T, C = x.shape\n",
    "        x = x.view(B, T*C)  # each batch with single long vector\n",
    "        # print(\"3.\", x.shape)\n",
    "        # shape of x: B, T*C\n",
    "        logits = self.fc(x)  # raw prediction before softmax\n",
    "        # shape of logits: B, vocab_size\n",
    "        return logits"
   ]
  },
  {
   "cell_type": "code",
   "execution_count": 11,
   "id": "cd8b8b01",
   "metadata": {},
   "outputs": [
    {
     "data": {
      "text/plain": [
       "63"
      ]
     },
     "execution_count": 11,
     "metadata": {},
     "output_type": "execute_result"
    }
   ],
   "source": [
    "vocab_size"
   ]
  },
  {
   "cell_type": "code",
   "execution_count": 12,
   "id": "fdd16e26",
   "metadata": {},
   "outputs": [],
   "source": [
    "model = NGram(vocab_size=vocab_size, block_size=3, n_embd=2)"
   ]
  },
  {
   "cell_type": "code",
   "execution_count": 169,
   "id": "478748d0",
   "metadata": {},
   "outputs": [
    {
     "data": {
      "text/plain": [
       "Parameter containing:\n",
       "tensor([[ 0.5354,  0.2872],\n",
       "        [ 2.5197,  3.5074],\n",
       "        [ 6.0530,  0.6411],\n",
       "        [-2.2018,  2.6396],\n",
       "        [-0.8184, -0.0365],\n",
       "        [-0.3598,  0.2449],\n",
       "        [ 1.5994,  0.6267],\n",
       "        [-0.9772, -0.6373],\n",
       "        [-1.2163, -1.0970],\n",
       "        [ 1.9557, -0.3548],\n",
       "        [-3.5993,  4.1692],\n",
       "        [-3.2250,  0.4676],\n",
       "        [-1.3885, -1.4961],\n",
       "        [-2.2380,  2.8472],\n",
       "        [-0.8424,  0.3046],\n",
       "        [-0.2963, -0.9387],\n",
       "        [-0.0238, -1.0422],\n",
       "        [-0.3980, -0.9032],\n",
       "        [ 0.1603,  1.2204],\n",
       "        [ 0.7616, -1.6606],\n",
       "        [-0.0251, -1.3133],\n",
       "        [-0.3325, -2.5736],\n",
       "        [-1.5115, -0.4098],\n",
       "        [-0.0921, -1.8280],\n",
       "        [ 0.0326,  0.8542],\n",
       "        [-0.5902, -0.1289],\n",
       "        [ 0.5618, -0.9388],\n",
       "        [ 0.1032, -0.5569],\n",
       "        [ 2.2703, -0.8042],\n",
       "        [-0.3362, -1.6853],\n",
       "        [ 1.6591, -0.5877],\n",
       "        [ 2.3049, -2.2425],\n",
       "        [ 0.1472,  0.5655],\n",
       "        [-0.8470, -0.9397],\n",
       "        [ 0.9820, -2.2868],\n",
       "        [ 0.0370, -1.7452],\n",
       "        [-0.7692, -0.7846],\n",
       "        [-0.4120,  0.2657],\n",
       "        [ 0.1698, -1.4418],\n",
       "        [ 0.2776, -1.4846],\n",
       "        [-0.7337, -1.6660],\n",
       "        [-0.6305, -0.3566],\n",
       "        [-0.6803, -1.5702],\n",
       "        [-0.4815, -1.7922],\n",
       "        [-0.4218, -2.0009],\n",
       "        [ 0.1139,  0.8778],\n",
       "        [-0.1548, -1.1341],\n",
       "        [-0.4181, -1.5701],\n",
       "        [-0.1910, -1.3586],\n",
       "        [-0.3676, -1.6642],\n",
       "        [-0.4000, -1.0070],\n",
       "        [-0.4930, -0.0227],\n",
       "        [-0.2345, -1.4344],\n",
       "        [ 0.3724, -1.1122],\n",
       "        [-0.3127, -1.4663],\n",
       "        [-0.5207, -1.4793],\n",
       "        [-0.5454, -2.0942],\n",
       "        [-0.2030,  0.0522],\n",
       "        [-0.1319, -2.8801],\n",
       "        [-0.3865, -1.8439],\n",
       "        [ 0.5034, -0.8477],\n",
       "        [-0.7902, -1.4034],\n",
       "        [ 0.0115, -1.4940]], requires_grad=True)"
      ]
     },
     "execution_count": 169,
     "metadata": {},
     "output_type": "execute_result"
    }
   ],
   "source": [
    "model.emb.weight"
   ]
  },
  {
   "cell_type": "code",
   "execution_count": 20,
   "id": "437621fc",
   "metadata": {},
   "outputs": [],
   "source": [
    "model.emb.weight.grad"
   ]
  },
  {
   "cell_type": "code",
   "execution_count": 21,
   "id": "755357c2",
   "metadata": {},
   "outputs": [],
   "source": [
    "optimizer = optim.SGD(model.parameters(), lr=0.5)  # Stochastic Gradient Descent\n",
    "# SGD updates the model’s parameters using the gradient of the loss function with respect to the model's parameters.\n",
    "# model.parameters() → weight and bias"
   ]
  },
  {
   "cell_type": "code",
   "execution_count": 22,
   "id": "ff00d48a",
   "metadata": {},
   "outputs": [],
   "source": [
    "lossi = []"
   ]
  },
  {
   "cell_type": "code",
   "execution_count": 25,
   "id": "04ad9041",
   "metadata": {},
   "outputs": [
    {
     "data": {
      "image/png": "[encoded data removed]",
      "text/plain": [
       "<Figure size 640x480 with 1 Axes>"
      ]
     },
     "metadata": {},
     "output_type": "display_data"
    }
   ],
   "source": [
    "emb = model.emb.weight.detach().numpy()\n",
    "plt.scatter(emb[:, 0], emb[:, 1], color='green', alpha=0.4, s=100)\n",
    "\n",
    "for i, e in enumerate(emb):\n",
    "    txt = decode([i])\n",
    "    plt.text(e[0], e[1], txt, ha='center', va='center')\n",
    "plt.show()"
   ]
  },
  {
   "cell_type": "code",
   "execution_count": 59,
   "id": "2fab612b",
   "metadata": {},
   "outputs": [
    {
     "name": "stdout",
     "output_type": "stream",
     "text": [
      "9900\n"
     ]
    },
    {
     "data": {
      "image/png": "[encoded data removed]",
      "text/plain": [
       "<Figure size 640x480 with 1 Axes>"
      ]
     },
     "metadata": {},
     "output_type": "display_data"
    }
   ],
   "source": [
    "# trining loop\n",
    "for epoch in range(10000):\n",
    "    logits = model(X) # batch gradient descend\n",
    "    loss = F.cross_entropy(logits, y)  # cross-entropy loss between predictions and true labels y\n",
    "\n",
    "    optimizer.zero_grad()  # Clear previous gradients\n",
    "    loss.backward()        # Compute gradients via backpropagation\n",
    "    optimizer.step()       # Update model weights\n",
    "    lossi.append(loss.item())  # track loss\n",
    "\n",
    "    if epoch % 100 == 0:\n",
    "        clear_output(wait=True)  # Clears previous output \n",
    "        print(epoch)  # Print current epoch\n",
    "        emb = model.emb.weight.detach().numpy()  # Extract embedding weights\n",
    "        plt.scatter(emb[:, 0], emb[:, 1], color='green', alpha=0.4, s=100)  # Plot embeddings\n",
    "\n",
    "        for i, e in enumerate(emb):\n",
    "            txt = decode([i])  # Decode index to a label \n",
    "            plt.text(e[0], e[1], txt, ha='center', va='center')  # Annotate points\n",
    "        plt.show()"
   ]
  },
  {
   "cell_type": "code",
   "execution_count": 61,
   "id": "a4242753",
   "metadata": {},
   "outputs": [
    {
     "data": {
      "image/png": "[encoded data removed]",
      "text/plain": [
       "<Figure size 640x480 with 1 Axes>"
      ]
     },
     "metadata": {},
     "output_type": "display_data"
    }
   ],
   "source": [
    "plt.plot(lossi)\n",
    "plt.show()"
   ]
  },
  {
   "cell_type": "code",
   "execution_count": 62,
   "id": "31953b97",
   "metadata": {},
   "outputs": [],
   "source": [
    "checkpoint = {\n",
    "    'epoch': epoch,\n",
    "    'model_state_dict': model.state_dict(),\n",
    "    'optimizer_state_dict': optimizer.state_dict(),\n",
    "    'loss': lossi[-1],\n",
    "}\n",
    "torch.save(checkpoint, 'ngram_checkpoints.pth')"
   ]
  },
  {
   "cell_type": "code",
   "execution_count": null,
   "id": "cb2b6c4c",
   "metadata": {},
   "outputs": [],
   "source": [
    "def generate_text(model, start_text='I H', block_size=3, max_new_tokens=100, temperature=1.0):\n",
    "    \"\"\"\n",
    "    Generate text based on the provided model and starting input text.\n",
    "\n",
    "    Parameters:\n",
    "    - model: The trained model (NGram in this case).\n",
    "    - start_text: The initial text to start the generation from.\n",
    "    - block_size: The number of previous tokens to consider for prediction (context window).\n",
    "    - max_new_tokens: The maximum number of new tokens to generate.\n",
    "    - temperature: The temperature for sampling (higher values lead to more randomness).\n",
    "    \n",
    "    Returns:\n",
    "    - Generated text.\n",
    "    \"\"\"\n",
    "    model.eval()  # Set the model to evaluation mode (no gradient calculation)\n",
    "    \n",
    "    # Encode the start text \n",
    "    input_seq = torch.tensor(encode(start_text)).unsqueeze(0)  # Add batch dimension (B=1)\n",
    "    output_text = start_text  # Initialize output with the starting text\n",
    "\n",
    "    for _ in range(max_new_tokens):\n",
    "        # Forward pass through the model to get logits (raw predictions)\n",
    "        logits = model(input_seq)\n",
    "        \n",
    "        # Apply temperature to the logits to control randomness\n",
    "        logits = logits[:, -1] / temperature  # Adjust logits by temperature\n",
    "        probs = torch.softmax(logits, dim=-1)  # Convert logits to probabilities\n",
    "        \n",
    "        # Sample from the probability distribution (use multinomial for randomness)\n",
    "        ix = torch.multinomial(probs, num_samples=1).item()  # Get predicted index\n",
    "        \n",
    "        # Decode the predicted index to a character and append to the output text\n",
    "        predicted_char = decode([ix])\n",
    "        output_text += predicted_char\n",
    "        \n",
    "        # Update the input sequence (shift and append the new token)\n",
    "        input_seq = torch.cat([input_seq[:, 1:], torch.tensor([[ix]])], dim=1)\n",
    "\n",
    "    return output_text\n"
   ]
  },
  {
   "cell_type": "code",
   "execution_count": 64,
   "id": "23b80bd5",
   "metadata": {},
   "outputs": [
    {
     "name": "stdout",
     "output_type": "stream",
     "text": [
      "I H....................................................................................................\n"
     ]
    }
   ],
   "source": [
    "# Example\n",
    "generated_text = generate_text(model, start_text='I H', block_size=3, max_new_tokens=100, temperature=1.0)\n",
    "print(generated_text)"
   ]
  },
  {
   "cell_type": "code",
   "execution_count": 36,
   "id": "6b19dc2d",
   "metadata": {},
   "outputs": [],
   "source": [
    "import time\n",
    "from IPython.display import clear_output"
   ]
  },
  {
   "cell_type": "code",
   "execution_count": 66,
   "id": "4d918320",
   "metadata": {},
   "outputs": [
    {
     "name": "stdout",
     "output_type": "stream",
     "text": [
      "I He I pom muaped hhy foe iat; Ger ewa-d wher th te vaub hre hiravtse thaone reryir om forewiV Gaeltaim\n"
     ]
    }
   ],
   "source": [
    "input_ = 'I H'\n",
    "output = input_\n",
    "\n",
    "for i in range(100):\n",
    "    logits = model(torch.tensor(encode(input_)).unsqueeze(0))\n",
    "    probs = torch.softmax(logits, dim=-1).squeeze()\n",
    "\n",
    "    # ix = logits.argmax(dim=-1).item()\n",
    "    ix = torch.multinomial(probs, num_samples=1).item()\n",
    "    input_ = input_[1:] + decode([ix])\n",
    "    output += decode([ix])\n",
    "    print(output)\n",
    "    clear_output(wait=True)\n",
    "    time.sleep(0.1)"
   ]
  },
  {
   "cell_type": "code",
   "execution_count": null,
   "id": "414db12e",
   "metadata": {},
   "outputs": [],
   "source": []
  },
  {
   "cell_type": "code",
   "execution_count": null,
   "id": "bed82629",
   "metadata": {},
   "outputs": [],
   "source": []
  }
 ],
 "metadata": {
  "kernelspec": {
   "display_name": "opencv",
   "language": "python",
   "name": "python3"
  },
  "language_info": {
   "codemirror_mode": {
    "name": "ipython",
    "version": 3
   },
   "file_extension": ".py",
   "mimetype": "text/x-python",
   "name": "python",
   "nbconvert_exporter": "python",
   "pygments_lexer": "ipython3",
   "version": "3.12.1"
  }
 },
 "nbformat": 4,
 "nbformat_minor": 5
}
